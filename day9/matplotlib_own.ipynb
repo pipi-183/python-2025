{
 "cells": [
  {
   "cell_type": "code",
   "id": "initial_id",
   "metadata": {
    "collapsed": true,
    "ExecuteTime": {
     "end_time": "2025-01-23T06:20:08.672414Z",
     "start_time": "2025-01-23T06:20:08.668018Z"
    }
   },
   "source": "b=5",
   "outputs": [],
   "execution_count": 1
  },
  {
   "metadata": {
    "ExecuteTime": {
     "end_time": "2025-01-23T06:20:08.681428Z",
     "start_time": "2025-01-23T06:20:08.673877Z"
    }
   },
   "cell_type": "code",
   "source": "b",
   "id": "3dd6a3e0bbf51233",
   "outputs": [
    {
     "data": {
      "text/plain": [
       "5"
      ]
     },
     "execution_count": 2,
     "metadata": {},
     "output_type": "execute_result"
    }
   ],
   "execution_count": 2
  },
  {
   "metadata": {
    "ExecuteTime": {
     "end_time": "2025-01-23T06:20:08.686424Z",
     "start_time": "2025-01-23T06:20:08.682452Z"
    }
   },
   "cell_type": "code",
   "source": "a=6",
   "id": "a63ae00cbf173b4d",
   "outputs": [],
   "execution_count": 3
  },
  {
   "metadata": {
    "ExecuteTime": {
     "end_time": "2025-01-23T06:20:08.692561Z",
     "start_time": "2025-01-23T06:20:08.687423Z"
    }
   },
   "cell_type": "code",
   "source": "a+=2",
   "id": "bca9c0d841b4ebaa",
   "outputs": [],
   "execution_count": 4
  },
  {
   "metadata": {
    "ExecuteTime": {
     "end_time": "2025-01-23T06:20:08.700685Z",
     "start_time": "2025-01-23T06:20:08.693921Z"
    }
   },
   "cell_type": "code",
   "source": "b+=3",
   "id": "97695596982d31e5",
   "outputs": [],
   "execution_count": 5
  }
 ],
 "metadata": {
  "kernelspec": {
   "display_name": "Python 3",
   "language": "python",
   "name": "python3"
  },
  "language_info": {
   "codemirror_mode": {
    "name": "ipython",
    "version": 2
   },
   "file_extension": ".py",
   "mimetype": "text/x-python",
   "name": "python",
   "nbconvert_exporter": "python",
   "pygments_lexer": "ipython2",
   "version": "2.7.6"
  }
 },
 "nbformat": 4,
 "nbformat_minor": 5
}
